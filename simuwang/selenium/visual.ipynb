{
 "cells": [
  {
   "cell_type": "code",
   "execution_count": 45,
   "metadata": {},
   "outputs": [],
   "source": [
    "import pandas as pd\n",
    "import matplotlib.pyplot as plt\n",
    "\n",
    "plt.rcParams[\"font.sans-serif\"]=[\"SimHei\"] #设置字体\n",
    "plt.rcParams[\"font.family\"]=[\"sans-serif\"]\n",
    "plt.rcParams[\"axes.unicode_minus\"]=False #该语句解决图像中的“-”负号的乱码问题"
   ]
  },
  {
   "cell_type": "code",
   "execution_count": 22,
   "metadata": {},
   "outputs": [
    {
     "data": {
      "text/html": [
       "<div>\n",
       "<style scoped>\n",
       "    .dataframe tbody tr th:only-of-type {\n",
       "        vertical-align: middle;\n",
       "    }\n",
       "\n",
       "    .dataframe tbody tr th {\n",
       "        vertical-align: top;\n",
       "    }\n",
       "\n",
       "    .dataframe thead th {\n",
       "        text-align: right;\n",
       "    }\n",
       "</style>\n",
       "<table border=\"1\" class=\"dataframe\">\n",
       "  <thead>\n",
       "    <tr style=\"text-align: right;\">\n",
       "      <th></th>\n",
       "      <th>fund_name</th>\n",
       "      <th>Strategy</th>\n",
       "      <th>net</th>\n",
       "      <th>one_month</th>\n",
       "      <th>three_month</th>\n",
       "      <th>half_year</th>\n",
       "    </tr>\n",
       "  </thead>\n",
       "  <tbody>\n",
       "    <tr>\n",
       "      <th>0</th>\n",
       "      <td>['华宝信托-湖南国科微电子股份有限公司2020年员工持股集合资金信托计划']</td>\n",
       "      <td>['股票策略']</td>\n",
       "      <td>['23.6241']</td>\n",
       "      <td>-2.29%</td>\n",
       "      <td>-13.98%</td>\n",
       "      <td>897.81%</td>\n",
       "    </tr>\n",
       "    <tr>\n",
       "      <th>1</th>\n",
       "      <td>['亚鞅平常心']</td>\n",
       "      <td>['股票策略']</td>\n",
       "      <td>['17.1695']</td>\n",
       "      <td>5.81%</td>\n",
       "      <td>18.43%</td>\n",
       "      <td>32.52%</td>\n",
       "    </tr>\n",
       "    <tr>\n",
       "      <th>2</th>\n",
       "      <td>['共同大健康量化']</td>\n",
       "      <td>['复合策略']</td>\n",
       "      <td>['15.5558']</td>\n",
       "      <td>2.32%</td>\n",
       "      <td>9.27%</td>\n",
       "      <td>0.68%</td>\n",
       "    </tr>\n",
       "    <tr>\n",
       "      <th>3</th>\n",
       "      <td>['匠心全天候策略']</td>\n",
       "      <td>['股票策略']</td>\n",
       "      <td>['13.0487']</td>\n",
       "      <td>-2.12%</td>\n",
       "      <td>-0.34%</td>\n",
       "      <td>36.26%</td>\n",
       "    </tr>\n",
       "    <tr>\n",
       "      <th>4</th>\n",
       "      <td>['善流金沙六号']</td>\n",
       "      <td>['管理期货']</td>\n",
       "      <td>['16.4100']</td>\n",
       "      <td>7.12%</td>\n",
       "      <td>10.81%</td>\n",
       "      <td>119.71%</td>\n",
       "    </tr>\n",
       "  </tbody>\n",
       "</table>\n",
       "</div>"
      ],
      "text/plain": [
       "                                 fund_name  Strategy          net one_month  \\\n",
       "0  ['华宝信托-湖南国科微电子股份有限公司2020年员工持股集合资金信托计划']  ['股票策略']  ['23.6241']    -2.29%   \n",
       "1                                ['亚鞅平常心']  ['股票策略']  ['17.1695']     5.81%   \n",
       "2                              ['共同大健康量化']  ['复合策略']  ['15.5558']     2.32%   \n",
       "3                              ['匠心全天候策略']  ['股票策略']  ['13.0487']    -2.12%   \n",
       "4                               ['善流金沙六号']  ['管理期货']  ['16.4100']     7.12%   \n",
       "\n",
       "  three_month half_year  \n",
       "0     -13.98%   897.81%  \n",
       "1      18.43%    32.52%  \n",
       "2       9.27%     0.68%  \n",
       "3      -0.34%    36.26%  \n",
       "4      10.81%   119.71%  "
      ]
     },
     "execution_count": 22,
     "metadata": {},
     "output_type": "execute_result"
    }
   ],
   "source": [
    "df = pd.read_excel(\"/storage/k8s/dont_post_me/simuwang/selenium/fund.xlsx\")\n",
    "df =  df[[\"fund_name\",\"Strategy\",\"net\",\"one_month\",\"three_month\",\"half_year\"]]\n",
    "\n",
    "df.head()"
   ]
  },
  {
   "cell_type": "code",
   "execution_count": 4,
   "metadata": {},
   "outputs": [
    {
     "data": {
      "text/html": [
       "<div>\n",
       "<style scoped>\n",
       "    .dataframe tbody tr th:only-of-type {\n",
       "        vertical-align: middle;\n",
       "    }\n",
       "\n",
       "    .dataframe tbody tr th {\n",
       "        vertical-align: top;\n",
       "    }\n",
       "\n",
       "    .dataframe thead th {\n",
       "        text-align: right;\n",
       "    }\n",
       "</style>\n",
       "<table border=\"1\" class=\"dataframe\">\n",
       "  <thead>\n",
       "    <tr style=\"text-align: right;\">\n",
       "      <th></th>\n",
       "      <th>fund_name</th>\n",
       "      <th>Strategy</th>\n",
       "      <th>net</th>\n",
       "      <th>one_month</th>\n",
       "      <th>three_month</th>\n",
       "      <th>half_year</th>\n",
       "    </tr>\n",
       "  </thead>\n",
       "  <tbody>\n",
       "    <tr>\n",
       "      <th>count</th>\n",
       "      <td>1550</td>\n",
       "      <td>1550</td>\n",
       "      <td>1550</td>\n",
       "      <td>1550</td>\n",
       "      <td>1550</td>\n",
       "      <td>1550</td>\n",
       "    </tr>\n",
       "    <tr>\n",
       "      <th>unique</th>\n",
       "      <td>1450</td>\n",
       "      <td>8</td>\n",
       "      <td>1337</td>\n",
       "      <td>1141</td>\n",
       "      <td>1276</td>\n",
       "      <td>1302</td>\n",
       "    </tr>\n",
       "    <tr>\n",
       "      <th>top</th>\n",
       "      <td>['广发资管尚盈3号']</td>\n",
       "      <td>['股票策略']</td>\n",
       "      <td>['1.4090']</td>\n",
       "      <td>0.00%</td>\n",
       "      <td>1.30%</td>\n",
       "      <td>--</td>\n",
       "    </tr>\n",
       "    <tr>\n",
       "      <th>freq</th>\n",
       "      <td>2</td>\n",
       "      <td>923</td>\n",
       "      <td>5</td>\n",
       "      <td>8</td>\n",
       "      <td>4</td>\n",
       "      <td>6</td>\n",
       "    </tr>\n",
       "  </tbody>\n",
       "</table>\n",
       "</div>"
      ],
      "text/plain": [
       "           fund_name  Strategy         net one_month three_month half_year\n",
       "count           1550      1550        1550      1550        1550      1550\n",
       "unique          1450         8        1337      1141        1276      1302\n",
       "top     ['广发资管尚盈3号']  ['股票策略']  ['1.4090']     0.00%       1.30%        --\n",
       "freq               2       923           5         8           4         6"
      ]
     },
     "execution_count": 4,
     "metadata": {},
     "output_type": "execute_result"
    }
   ],
   "source": [
    "df.describe()"
   ]
  },
  {
   "cell_type": "code",
   "execution_count": 39,
   "metadata": {},
   "outputs": [
    {
     "data": {
      "text/plain": [
       "['股票策略']    923\n",
       "['管理期货']    262\n",
       "['复合策略']    142\n",
       "['债券策略']    123\n",
       "['事件驱动']     31\n",
       "['相对价值']     31\n",
       "['宏观策略']     24\n",
       "['组合策略']     14\n",
       "Name: Strategy, dtype: int64"
      ]
     },
     "execution_count": 39,
     "metadata": {},
     "output_type": "execute_result"
    }
   ],
   "source": [
    "df['Strategy'].value_counts()\n"
   ]
  },
  {
   "cell_type": "code",
   "execution_count": 47,
   "metadata": {},
   "outputs": [
    {
     "name": "stdout",
     "output_type": "stream",
     "text": [
      "Looking in indexes: https://pypi.tuna.tsinghua.edu.cn/simple\n",
      "Collecting mplfonts\n",
      "  Downloading https://pypi.tuna.tsinghua.edu.cn/packages/db/e1/00791d7b84e0968d3b1214c4ec5af1bba17b89d61315514a5f2389f5ec56/mplfonts-0.0.7.tar.gz (85.0 MB)\n",
      "\u001b[K     |████████████████████████████████| 85.0 MB 163 kB/s eta 0:00:0111\n",
      "\u001b[?25hCollecting fire==0.4.0\n",
      "  Downloading https://pypi.tuna.tsinghua.edu.cn/packages/11/07/a119a1aa04d37bc819940d95ed7e135a7dcca1c098123a3764a6dcace9e7/fire-0.4.0.tar.gz (87 kB)\n",
      "\u001b[K     |████████████████████████████████| 87 kB 7.1 MB/s  eta 0:00:01\n",
      "\u001b[?25hCollecting toml==0.10.2\n",
      "  Downloading https://pypi.tuna.tsinghua.edu.cn/packages/44/6f/7120676b6d73228c96e17f1f794d8ab046fc910d781c8d151120c3f1569e/toml-0.10.2-py2.py3-none-any.whl (16 kB)\n",
      "Collecting pytest==6.2.4\n",
      "  Downloading https://pypi.tuna.tsinghua.edu.cn/packages/a1/59/6821e900592fbe261f19d67e4def0cb27e52ef8ed16d9922c144961cc1ee/pytest-6.2.4-py3-none-any.whl (280 kB)\n",
      "\u001b[K     |████████████████████████████████| 280 kB 11.2 MB/s eta 0:00:01\n",
      "\u001b[?25hCollecting fontmeta==1.6.1\n",
      "  Downloading https://pypi.tuna.tsinghua.edu.cn/packages/c5/a8/42dceed3349ddc49460412cc21d66b551bb9e2e63e8accddcae56128bbfe/fontmeta-1.6.1.tar.gz (6.9 kB)\n",
      "Requirement already satisfied: numpy in /home/k8s/miniconda3/lib/python3.9/site-packages (from mplfonts) (1.22.3)\n",
      "Collecting matplotlib==3.3\n",
      "  Downloading https://pypi.tuna.tsinghua.edu.cn/packages/7d/d4/e4c40c62cd8608ca09f0684e64139c56512e195f2351ac41a472d4dc8b38/matplotlib-3.3.0.tar.gz (38.8 MB)\n",
      "\u001b[K     |████████████████████████████████| 38.8 MB 486 kB/s eta 0:00:01\n",
      "\u001b[?25hRequirement already satisfied: six in /home/k8s/miniconda3/lib/python3.9/site-packages (from fire==0.4.0->mplfonts) (1.16.0)\n",
      "Collecting termcolor\n",
      "  Downloading https://pypi.tuna.tsinghua.edu.cn/packages/8a/48/a76be51647d0eb9f10e2a4511bf3ffb8cc1e6b14e9e4fab46173aa79f981/termcolor-1.1.0.tar.gz (3.9 kB)\n",
      "Requirement already satisfied: fonttools in /home/k8s/miniconda3/lib/python3.9/site-packages (from fontmeta==1.6.1->mplfonts) (4.30.0)\n",
      "Requirement already satisfied: cycler>=0.10 in /home/k8s/miniconda3/lib/python3.9/site-packages (from matplotlib==3.3->mplfonts) (0.11.0)\n",
      "Requirement already satisfied: kiwisolver>=1.0.1 in /home/k8s/miniconda3/lib/python3.9/site-packages (from matplotlib==3.3->mplfonts) (1.3.2)\n",
      "Requirement already satisfied: pillow>=6.2.0 in /home/k8s/miniconda3/lib/python3.9/site-packages (from matplotlib==3.3->mplfonts) (9.0.1)\n",
      "Requirement already satisfied: pyparsing!=2.0.4,!=2.1.2,!=2.1.6,>=2.0.3 in /home/k8s/miniconda3/lib/python3.9/site-packages (from matplotlib==3.3->mplfonts) (3.0.7)\n",
      "Requirement already satisfied: python-dateutil>=2.1 in /home/k8s/miniconda3/lib/python3.9/site-packages (from matplotlib==3.3->mplfonts) (2.8.2)\n",
      "Requirement already satisfied: attrs>=19.2.0 in /home/k8s/miniconda3/lib/python3.9/site-packages (from pytest==6.2.4->mplfonts) (21.4.0)\n",
      "Requirement already satisfied: packaging in /home/k8s/miniconda3/lib/python3.9/site-packages (from pytest==6.2.4->mplfonts) (21.3)\n",
      "Collecting iniconfig\n",
      "  Downloading https://pypi.tuna.tsinghua.edu.cn/packages/9b/dd/b3c12c6d707058fa947864b67f0c4e0c39ef8610988d7baea9578f3c48f3/iniconfig-1.1.1-py2.py3-none-any.whl (5.0 kB)\n",
      "Collecting py>=1.8.2\n",
      "  Downloading https://pypi.tuna.tsinghua.edu.cn/packages/f6/f0/10642828a8dfb741e5f3fbaac830550a518a775c7fff6f04a007259b0548/py-1.11.0-py2.py3-none-any.whl (98 kB)\n",
      "\u001b[K     |████████████████████████████████| 98 kB 1.7 MB/s eta 0:00:011\n",
      "\u001b[?25hCollecting pluggy<1.0.0a1,>=0.12\n",
      "  Downloading https://pypi.tuna.tsinghua.edu.cn/packages/a0/28/85c7aa31b80d150b772fbe4a229487bc6644da9ccb7e427dd8cc60cb8a62/pluggy-0.13.1-py2.py3-none-any.whl (18 kB)\n",
      "Building wheels for collected packages: mplfonts, fire, fontmeta, matplotlib, termcolor\n",
      "  Building wheel for mplfonts (setup.py) ... \u001b[?25ldone\n",
      "\u001b[?25h  Created wheel for mplfonts: filename=mplfonts-0.0.7-py3-none-any.whl size=85007284 sha256=e199975184efec202bfc24b2129a1971ca81672f13df744ebff7a61d30f41f50\n",
      "  Stored in directory: /home/k8s/.cache/pip/wheels/af/9a/50/e114d4789bc402f18a78e2b5f8e50f77a47bf777f9e2ed3500\n",
      "  Building wheel for fire (setup.py) ... \u001b[?25ldone\n",
      "\u001b[?25h  Created wheel for fire: filename=fire-0.4.0-py2.py3-none-any.whl size=115942 sha256=3d57e80bf756502ef91435fa346e3160cefe78c5744981ae1402f23353358600\n",
      "  Stored in directory: /home/k8s/.cache/pip/wheels/4b/10/de/aeaeb6a631b5c89fa8d339e6b7fd9d3e0271c60d27b8f3ee15\n",
      "  Building wheel for fontmeta (setup.py) ... \u001b[?25ldone\n",
      "\u001b[?25h  Created wheel for fontmeta: filename=fontmeta-1.6.1-py3-none-any.whl size=7190 sha256=fe40d278a81cf8af2f3b2a6626aba30cebc4e10225c98cb74bb03c5a87c1bf2f\n",
      "  Stored in directory: /home/k8s/.cache/pip/wheels/d0/1b/6a/e4b00b9581909611f76884503ad4ea68c763fa2de21699ec59\n",
      "  Building wheel for matplotlib (setup.py) ... \u001b[?25ldone\n",
      "\u001b[?25h  Created wheel for matplotlib: filename=matplotlib-3.3.0-cp39-cp39-linux_x86_64.whl size=8424630 sha256=1ad763faa0f1e4e70abe1df74041d7ccca531ce6eaedef02ff08378db1b6679f\n",
      "  Stored in directory: /home/k8s/.cache/pip/wheels/69/9c/3a/2eacf393b7335b07e7baddba774558e3a3b1f27ac501b55dbf\n",
      "  Building wheel for termcolor (setup.py) ... \u001b[?25ldone\n",
      "\u001b[?25h  Created wheel for termcolor: filename=termcolor-1.1.0-py3-none-any.whl size=4848 sha256=7698eac504b920d89ca37d2b210db61f9c98bc334163ed66c892aa155c4f5d37\n",
      "  Stored in directory: /home/k8s/.cache/pip/wheels/0b/7f/b8/e690cd19654ea166e7c3adf6877d160dd5e06fd8e50e3d59c8\n",
      "Successfully built mplfonts fire fontmeta matplotlib termcolor\n",
      "Installing collected packages: toml, termcolor, py, pluggy, iniconfig, pytest, matplotlib, fontmeta, fire, mplfonts\n",
      "  Attempting uninstall: matplotlib\n",
      "    Found existing installation: matplotlib 3.5.1\n",
      "    Uninstalling matplotlib-3.5.1:\n",
      "      Successfully uninstalled matplotlib-3.5.1\n",
      "Successfully installed fire-0.4.0 fontmeta-1.6.1 iniconfig-1.1.1 matplotlib-3.3.0 mplfonts-0.0.7 pluggy-0.13.1 py-1.11.0 pytest-6.2.4 termcolor-1.1.0 toml-0.10.2\n"
     ]
    }
   ],
   "source": [
    "!pip install mplfonts -i https://pypi.tuna.tsinghua.edu.cn/simple"
   ]
  },
  {
   "cell_type": "code",
   "execution_count": 48,
   "metadata": {},
   "outputs": [
    {
     "ename": "ImportError",
     "evalue": "cannot import name '_rebuild' from 'matplotlib.font_manager' (/home/k8s/miniconda3/lib/python3.9/site-packages/matplotlib/font_manager.py)",
     "output_type": "error",
     "traceback": [
      "\u001b[0;31m---------------------------------------------------------------------------\u001b[0m",
      "\u001b[0;31mImportError\u001b[0m                               Traceback (most recent call last)",
      "\u001b[1;32m/storage/k8s/dont_post_me/simuwang/selenium/visual.ipynb Cell 6'\u001b[0m in \u001b[0;36m<cell line: 1>\u001b[0;34m()\u001b[0m\n\u001b[0;32m----> <a href='vscode-notebook-cell://ssh-remote%2Bi1.w0x7ce.eu/storage/k8s/dont_post_me/simuwang/selenium/visual.ipynb#ch0000006vscode-remote?line=0'>1</a>\u001b[0m \u001b[39mfrom\u001b[39;00m \u001b[39mmplfonts\u001b[39;00m\u001b[39m.\u001b[39;00m\u001b[39mbin\u001b[39;00m\u001b[39m.\u001b[39;00m\u001b[39mcli\u001b[39;00m \u001b[39mimport\u001b[39;00m init\n\u001b[1;32m      <a href='vscode-notebook-cell://ssh-remote%2Bi1.w0x7ce.eu/storage/k8s/dont_post_me/simuwang/selenium/visual.ipynb#ch0000006vscode-remote?line=1'>2</a>\u001b[0m init()\n",
      "File \u001b[0;32m~/miniconda3/lib/python3.9/site-packages/mplfonts/__init__.py:1\u001b[0m, in \u001b[0;36m<module>\u001b[0;34m\u001b[0m\n\u001b[0;32m----> <a href='file:///home/k8s/miniconda3/lib/python3.9/site-packages/mplfonts/__init__.py?line=0'>1</a>\u001b[0m \u001b[39mfrom\u001b[39;00m \u001b[39m.\u001b[39;00m\u001b[39mutil\u001b[39;00m\u001b[39m.\u001b[39;00m\u001b[39mmanage\u001b[39;00m \u001b[39mimport\u001b[39;00m (use_font, list_font)\n",
      "File \u001b[0;32m~/miniconda3/lib/python3.9/site-packages/mplfonts/util/manage.py:8\u001b[0m, in \u001b[0;36m<module>\u001b[0;34m\u001b[0m\n\u001b[1;32m      <a href='file:///home/k8s/miniconda3/lib/python3.9/site-packages/mplfonts/util/manage.py?line=5'>6</a>\u001b[0m \u001b[39mimport\u001b[39;00m \u001b[39mmatplotlib\u001b[39;00m\n\u001b[1;32m      <a href='file:///home/k8s/miniconda3/lib/python3.9/site-packages/mplfonts/util/manage.py?line=6'>7</a>\u001b[0m \u001b[39mfrom\u001b[39;00m \u001b[39mfontmeta\u001b[39;00m \u001b[39mimport\u001b[39;00m FontMeta\n\u001b[0;32m----> <a href='file:///home/k8s/miniconda3/lib/python3.9/site-packages/mplfonts/util/manage.py?line=7'>8</a>\u001b[0m \u001b[39mfrom\u001b[39;00m \u001b[39mmatplotlib\u001b[39;00m\u001b[39m.\u001b[39;00m\u001b[39mfont_manager\u001b[39;00m \u001b[39mimport\u001b[39;00m _rebuild\n\u001b[1;32m      <a href='file:///home/k8s/miniconda3/lib/python3.9/site-packages/mplfonts/util/manage.py?line=8'>9</a>\u001b[0m \u001b[39mfrom\u001b[39;00m \u001b[39mmatplotlib\u001b[39;00m\u001b[39m.\u001b[39;00m\u001b[39mpyplot\u001b[39;00m \u001b[39mimport\u001b[39;00m rc\n\u001b[1;32m     <a href='file:///home/k8s/miniconda3/lib/python3.9/site-packages/mplfonts/util/manage.py?line=10'>11</a>\u001b[0m \u001b[39mfrom\u001b[39;00m \u001b[39mmplfonts\u001b[39;00m\u001b[39m.\u001b[39;00m\u001b[39mconf\u001b[39;00m \u001b[39mimport\u001b[39;00m FONT_DIR, RC_DIR\n",
      "\u001b[0;31mImportError\u001b[0m: cannot import name '_rebuild' from 'matplotlib.font_manager' (/home/k8s/miniconda3/lib/python3.9/site-packages/matplotlib/font_manager.py)"
     ]
    }
   ],
   "source": [
    "from mplfonts.bin.cli import init\n",
    "init()"
   ]
  },
  {
   "cell_type": "code",
   "execution_count": 46,
   "metadata": {},
   "outputs": [
    {
     "data": {
      "text/plain": [
       "<AxesSubplot:>"
      ]
     },
     "execution_count": 46,
     "metadata": {},
     "output_type": "execute_result"
    },
    {
     "name": "stderr",
     "output_type": "stream",
     "text": [
      "/home/k8s/miniconda3/lib/python3.9/site-packages/IPython/core/pylabtools.py:151: UserWarning: Glyph 32929 (\\N{CJK UNIFIED IDEOGRAPH-80A1}) missing from current font.\n",
      "  fig.canvas.print_figure(bytes_io, **kw)\n",
      "/home/k8s/miniconda3/lib/python3.9/site-packages/IPython/core/pylabtools.py:151: UserWarning: Glyph 31080 (\\N{CJK UNIFIED IDEOGRAPH-7968}) missing from current font.\n",
      "  fig.canvas.print_figure(bytes_io, **kw)\n",
      "/home/k8s/miniconda3/lib/python3.9/site-packages/IPython/core/pylabtools.py:151: UserWarning: Glyph 31574 (\\N{CJK UNIFIED IDEOGRAPH-7B56}) missing from current font.\n",
      "  fig.canvas.print_figure(bytes_io, **kw)\n",
      "/home/k8s/miniconda3/lib/python3.9/site-packages/IPython/core/pylabtools.py:151: UserWarning: Glyph 30053 (\\N{CJK UNIFIED IDEOGRAPH-7565}) missing from current font.\n",
      "  fig.canvas.print_figure(bytes_io, **kw)\n",
      "/home/k8s/miniconda3/lib/python3.9/site-packages/IPython/core/pylabtools.py:151: UserWarning: Glyph 31649 (\\N{CJK UNIFIED IDEOGRAPH-7BA1}) missing from current font.\n",
      "  fig.canvas.print_figure(bytes_io, **kw)\n",
      "/home/k8s/miniconda3/lib/python3.9/site-packages/IPython/core/pylabtools.py:151: UserWarning: Glyph 29702 (\\N{CJK UNIFIED IDEOGRAPH-7406}) missing from current font.\n",
      "  fig.canvas.print_figure(bytes_io, **kw)\n",
      "/home/k8s/miniconda3/lib/python3.9/site-packages/IPython/core/pylabtools.py:151: UserWarning: Glyph 26399 (\\N{CJK UNIFIED IDEOGRAPH-671F}) missing from current font.\n",
      "  fig.canvas.print_figure(bytes_io, **kw)\n",
      "/home/k8s/miniconda3/lib/python3.9/site-packages/IPython/core/pylabtools.py:151: UserWarning: Glyph 36135 (\\N{CJK UNIFIED IDEOGRAPH-8D27}) missing from current font.\n",
      "  fig.canvas.print_figure(bytes_io, **kw)\n",
      "/home/k8s/miniconda3/lib/python3.9/site-packages/IPython/core/pylabtools.py:151: UserWarning: Glyph 22797 (\\N{CJK UNIFIED IDEOGRAPH-590D}) missing from current font.\n",
      "  fig.canvas.print_figure(bytes_io, **kw)\n",
      "/home/k8s/miniconda3/lib/python3.9/site-packages/IPython/core/pylabtools.py:151: UserWarning: Glyph 21512 (\\N{CJK UNIFIED IDEOGRAPH-5408}) missing from current font.\n",
      "  fig.canvas.print_figure(bytes_io, **kw)\n",
      "/home/k8s/miniconda3/lib/python3.9/site-packages/IPython/core/pylabtools.py:151: UserWarning: Glyph 20538 (\\N{CJK UNIFIED IDEOGRAPH-503A}) missing from current font.\n",
      "  fig.canvas.print_figure(bytes_io, **kw)\n",
      "/home/k8s/miniconda3/lib/python3.9/site-packages/IPython/core/pylabtools.py:151: UserWarning: Glyph 21048 (\\N{CJK UNIFIED IDEOGRAPH-5238}) missing from current font.\n",
      "  fig.canvas.print_figure(bytes_io, **kw)\n",
      "/home/k8s/miniconda3/lib/python3.9/site-packages/IPython/core/pylabtools.py:151: UserWarning: Glyph 20107 (\\N{CJK UNIFIED IDEOGRAPH-4E8B}) missing from current font.\n",
      "  fig.canvas.print_figure(bytes_io, **kw)\n",
      "/home/k8s/miniconda3/lib/python3.9/site-packages/IPython/core/pylabtools.py:151: UserWarning: Glyph 20214 (\\N{CJK UNIFIED IDEOGRAPH-4EF6}) missing from current font.\n",
      "  fig.canvas.print_figure(bytes_io, **kw)\n",
      "/home/k8s/miniconda3/lib/python3.9/site-packages/IPython/core/pylabtools.py:151: UserWarning: Glyph 39537 (\\N{CJK UNIFIED IDEOGRAPH-9A71}) missing from current font.\n",
      "  fig.canvas.print_figure(bytes_io, **kw)\n",
      "/home/k8s/miniconda3/lib/python3.9/site-packages/IPython/core/pylabtools.py:151: UserWarning: Glyph 21160 (\\N{CJK UNIFIED IDEOGRAPH-52A8}) missing from current font.\n",
      "  fig.canvas.print_figure(bytes_io, **kw)\n",
      "/home/k8s/miniconda3/lib/python3.9/site-packages/IPython/core/pylabtools.py:151: UserWarning: Glyph 30456 (\\N{CJK UNIFIED IDEOGRAPH-76F8}) missing from current font.\n",
      "  fig.canvas.print_figure(bytes_io, **kw)\n",
      "/home/k8s/miniconda3/lib/python3.9/site-packages/IPython/core/pylabtools.py:151: UserWarning: Glyph 23545 (\\N{CJK UNIFIED IDEOGRAPH-5BF9}) missing from current font.\n",
      "  fig.canvas.print_figure(bytes_io, **kw)\n",
      "/home/k8s/miniconda3/lib/python3.9/site-packages/IPython/core/pylabtools.py:151: UserWarning: Glyph 20215 (\\N{CJK UNIFIED IDEOGRAPH-4EF7}) missing from current font.\n",
      "  fig.canvas.print_figure(bytes_io, **kw)\n",
      "/home/k8s/miniconda3/lib/python3.9/site-packages/IPython/core/pylabtools.py:151: UserWarning: Glyph 20540 (\\N{CJK UNIFIED IDEOGRAPH-503C}) missing from current font.\n",
      "  fig.canvas.print_figure(bytes_io, **kw)\n",
      "/home/k8s/miniconda3/lib/python3.9/site-packages/IPython/core/pylabtools.py:151: UserWarning: Glyph 23439 (\\N{CJK UNIFIED IDEOGRAPH-5B8F}) missing from current font.\n",
      "  fig.canvas.print_figure(bytes_io, **kw)\n",
      "/home/k8s/miniconda3/lib/python3.9/site-packages/IPython/core/pylabtools.py:151: UserWarning: Glyph 35266 (\\N{CJK UNIFIED IDEOGRAPH-89C2}) missing from current font.\n",
      "  fig.canvas.print_figure(bytes_io, **kw)\n",
      "/home/k8s/miniconda3/lib/python3.9/site-packages/IPython/core/pylabtools.py:151: UserWarning: Glyph 32452 (\\N{CJK UNIFIED IDEOGRAPH-7EC4}) missing from current font.\n",
      "  fig.canvas.print_figure(bytes_io, **kw)\n"
     ]
    },
    {
     "data": {
      "image/png": "[encoded data removed]",
      "text/plain": [
       "<Figure size 1296x576 with 1 Axes>"
      ]
     },
     "metadata": {
      "needs_background": "light"
     },
     "output_type": "display_data"
    }
   ],
   "source": [
    "\n",
    "\n",
    "plt.figure(figsize=(18,8))\n",
    "df['Strategy'].value_counts().plot.bar()\n",
    "\n",
    "# Strategy_bar\n",
    "# plt.bar(Strategy_bar)\n",
    "# plt.show()"
   ]
  }
 ],
 "metadata": {
  "interpreter": {
   "hash": "b46a932e3b7b0cd80073b673899a11ce8dc921d56c0609343ea227cbd145a563"
  },
  "kernelspec": {
   "display_name": "Python 3.9.7 ('base')",
   "language": "python",
   "name": "python3"
  },
  "language_info": {
   "codemirror_mode": {
    "name": "ipython",
    "version": 3
   },
   "file_extension": ".py",
   "mimetype": "text/x-python",
   "name": "python",
   "nbconvert_exporter": "python",
   "pygments_lexer": "ipython3",
   "version": "3.9.7"
  },
  "orig_nbformat": 4
 },
 "nbformat": 4,
 "nbformat_minor": 2
}
